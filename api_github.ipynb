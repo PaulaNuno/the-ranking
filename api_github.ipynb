{
 "cells": [
  {
   "cell_type": "code",
   "execution_count": 1,
   "metadata": {},
   "outputs": [],
   "source": [
    "import os\n",
    "from dotenv import load_dotenv\n",
    "load_dotenv()\n",
    "import json\n",
    "import re\n",
    "import requests\n",
    "import pandas as pd"
   ]
  },
  {
   "cell_type": "code",
   "execution_count": 2,
   "metadata": {},
   "outputs": [],
   "source": [
    "#Para sacar la info de las 2 APIs\n",
    "\n",
    "def get_comment(x,apiKey=os.getenv(\"GITHUB_APIKEY\")):\n",
    "    \n",
    "    headers = {\"Authorization\": f\"Bearer {apiKey}\"}\n",
    "    comment=requests.get(f'https://api.github.com/repos/ironhack-datalabs/datamad0820/issues/{x}/comments', headers=headers)\n",
    "    coments=comment.json()\n",
    "    \n",
    "    return coments"
   ]
  },
  {
   "cell_type": "code",
   "execution_count": 3,
   "metadata": {},
   "outputs": [],
   "source": [
    "#funciones\n",
    "\n",
    "def find_compi(comment):#busqueda del compañero con @\n",
    "    \n",
    "    try:\n",
    "        return re.findall('@\\w*-?w+', comment[0][\"body\"])\n",
    "    except:\n",
    "        return None\n",
    "\n",
    "def find_instructor(comment):#Para sacar el nombre del instructor\n",
    "    \n",
    "    try:\n",
    "        return comment[0]['user']['login']\n",
    "    except:\n",
    "        return None\n",
    "\n",
    "def find_meme(comment):#Para sacar el meme\n",
    "    \n",
    "    try:#hay unos sin imagenes \n",
    "        try:\n",
    "            z = re.findall(r'https:.*jpg|.*png|.*jpeg',comment[0]['body'])\n",
    "            z = str(z).split('(')\n",
    "            z = z[1].split(\"'\")\n",
    "            return z[0]\n",
    "        except: \n",
    "            z = re.findall(r'https:.*jpg|.*png|.*jpeg',comment[0]['body'])\n",
    "            z = str(z).split('(')\n",
    "            return z[0]\n",
    "    except:\n",
    "        return None   "
   ]
  },
  {
   "cell_type": "code",
   "execution_count": 4,
   "metadata": {},
   "outputs": [],
   "source": [
    "#Busqueda de info en Pull y union de las apis\n",
    "\n",
    "def get_pull(x,apiKey=os.getenv(\"GITHUB_APIKEY\")):\n",
    "    headers = {\n",
    "        \"Authorization\": f\"Bearer{apiKey}\"\n",
    "    }\n",
    "    res = requests.get(f\"https://api.github.com/repos/ironhack-datalabs/datamad0820/pulls/{x}\", headers=headers)\n",
    "    status = res.status_code\n",
    "    data = res.json()\n",
    "    coments = get_comment(x)\n",
    "    try:\n",
    "        return {\n",
    "            \"IDLab\":data['number'],\n",
    "            \"Lab\":data['head']['ref'],\n",
    "            \"State\":data['state'],\n",
    "            \"User\":data['user']['login'],\n",
    "            \"IDUsuario\":data['user']['id'],\n",
    "            \"OtroUsuario\":find_compi(coments),\n",
    "            \"Creado\": data['created_at'], \n",
    "            \"Cerrada\": data['closed_at'], \n",
    "            \"Instructor\": find_instructor(coments),\n",
    "            \"Meme\":find_meme(coments)}\n",
    "    except:\n",
    "        return {\"ERROR\":None}"
   ]
  },
  {
   "cell_type": "code",
   "execution_count": 5,
   "metadata": {},
   "outputs": [],
   "source": [
    "data_final =[get_pull(i) for i in range(1, 500)]"
   ]
  },
  {
   "cell_type": "code",
   "execution_count": 6,
   "metadata": {},
   "outputs": [
    {
     "name": "stdout",
     "output_type": "stream",
     "text": [
      "[{'ERROR': None}, {'ERROR': None}, {'ERROR': None}, {'ERROR': None}, {'ERROR': None}, {'ERROR': None}, {'ERROR': None}, {'ERROR': None}, {'ERROR': None}, {'ERROR': None}, {'ERROR': None}, {'ERROR': None}, {'ERROR': None}, {'ERROR': None}, {'ERROR': None}, {'ERROR': None}, {'ERROR': None}, {'ERROR': None}, {'ERROR': None}, {'ERROR': None}, {'ERROR': None}, {'ERROR': None}, {'ERROR': None}, {'ERROR': None}, {'ERROR': None}, {'ERROR': None}, {'ERROR': None}, {'ERROR': None}, {'ERROR': None}, {'ERROR': None}, {'ERROR': None}, {'ERROR': None}, {'ERROR': None}, {'ERROR': None}, {'ERROR': None}, {'ERROR': None}, {'ERROR': None}, {'ERROR': None}, {'ERROR': None}, {'ERROR': None}, {'ERROR': None}, {'ERROR': None}, {'ERROR': None}, {'ERROR': None}, {'ERROR': None}, {'ERROR': None}, {'ERROR': None}, {'ERROR': None}, {'ERROR': None}, {'ERROR': None}, {'ERROR': None}, {'ERROR': None}, {'ERROR': None}, {'ERROR': None}, {'ERROR': None}, {'ERROR': None}, {'ERROR': None}, {'ERROR': None}, {'ERROR': None}, {'ERROR': None}, {'ERROR': None}, {'ERROR': None}, {'ERROR': None}, {'ERROR': None}, {'ERROR': None}, {'ERROR': None}, {'ERROR': None}, {'ERROR': None}, {'ERROR': None}, {'ERROR': None}, {'ERROR': None}, {'ERROR': None}, {'ERROR': None}, {'ERROR': None}, {'ERROR': None}, {'ERROR': None}, {'ERROR': None}, {'ERROR': None}, {'ERROR': None}, {'ERROR': None}, {'ERROR': None}, {'ERROR': None}, {'ERROR': None}, {'ERROR': None}, {'ERROR': None}, {'ERROR': None}, {'ERROR': None}, {'ERROR': None}, {'ERROR': None}, {'ERROR': None}, {'ERROR': None}, {'ERROR': None}, {'ERROR': None}, {'ERROR': None}, {'ERROR': None}, {'ERROR': None}, {'ERROR': None}, {'ERROR': None}, {'ERROR': None}, {'ERROR': None}, {'ERROR': None}, {'ERROR': None}, {'ERROR': None}, {'ERROR': None}, {'ERROR': None}, {'ERROR': None}, {'ERROR': None}, {'ERROR': None}, {'ERROR': None}, {'ERROR': None}, {'ERROR': None}, {'ERROR': None}, {'ERROR': None}, {'ERROR': None}, {'ERROR': None}, {'ERROR': None}, {'ERROR': None}, {'ERROR': None}, {'ERROR': None}, {'ERROR': None}, {'ERROR': None}, {'ERROR': None}, {'ERROR': None}, {'ERROR': None}, {'ERROR': None}, {'ERROR': None}, {'ERROR': None}, {'ERROR': None}, {'ERROR': None}, {'ERROR': None}, {'ERROR': None}, {'ERROR': None}, {'ERROR': None}, {'ERROR': None}, {'ERROR': None}, {'ERROR': None}, {'ERROR': None}, {'ERROR': None}, {'ERROR': None}, {'ERROR': None}, {'ERROR': None}, {'ERROR': None}, {'ERROR': None}, {'ERROR': None}, {'ERROR': None}, {'ERROR': None}, {'ERROR': None}, {'ERROR': None}, {'ERROR': None}, {'ERROR': None}, {'ERROR': None}, {'ERROR': None}, {'ERROR': None}, {'ERROR': None}, {'ERROR': None}, {'ERROR': None}, {'ERROR': None}, {'ERROR': None}, {'ERROR': None}, {'ERROR': None}, {'ERROR': None}, {'ERROR': None}, {'ERROR': None}, {'ERROR': None}, {'ERROR': None}, {'ERROR': None}, {'ERROR': None}, {'ERROR': None}, {'ERROR': None}, {'ERROR': None}, {'ERROR': None}, {'ERROR': None}, {'ERROR': None}, {'ERROR': None}, {'ERROR': None}, {'ERROR': None}, {'ERROR': None}, {'ERROR': None}, {'ERROR': None}, {'ERROR': None}, {'ERROR': None}, {'ERROR': None}, {'ERROR': None}, {'ERROR': None}, {'ERROR': None}, {'ERROR': None}, {'ERROR': None}, {'ERROR': None}, {'ERROR': None}, {'ERROR': None}, {'ERROR': None}, {'ERROR': None}, {'ERROR': None}, {'ERROR': None}, {'ERROR': None}, {'ERROR': None}, {'ERROR': None}, {'ERROR': None}, {'ERROR': None}, {'ERROR': None}, {'ERROR': None}, {'ERROR': None}, {'ERROR': None}, {'ERROR': None}, {'ERROR': None}, {'ERROR': None}, {'ERROR': None}, {'ERROR': None}, {'ERROR': None}, {'ERROR': None}, {'ERROR': None}, {'ERROR': None}, {'ERROR': None}, {'ERROR': None}, {'ERROR': None}, {'ERROR': None}, {'ERROR': None}, {'ERROR': None}, {'ERROR': None}, {'ERROR': None}, {'ERROR': None}, {'ERROR': None}, {'ERROR': None}, {'ERROR': None}, {'ERROR': None}, {'ERROR': None}, {'ERROR': None}, {'ERROR': None}, {'ERROR': None}, {'ERROR': None}, {'ERROR': None}, {'ERROR': None}, {'ERROR': None}, {'ERROR': None}, {'ERROR': None}, {'ERROR': None}, {'ERROR': None}, {'ERROR': None}, {'ERROR': None}, {'ERROR': None}, {'ERROR': None}, {'ERROR': None}, {'ERROR': None}, {'ERROR': None}, {'ERROR': None}, {'ERROR': None}, {'ERROR': None}, {'ERROR': None}, {'ERROR': None}, {'ERROR': None}, {'ERROR': None}, {'ERROR': None}, {'ERROR': None}, {'ERROR': None}, {'ERROR': None}, {'ERROR': None}, {'ERROR': None}, {'ERROR': None}, {'ERROR': None}, {'ERROR': None}, {'ERROR': None}, {'ERROR': None}, {'ERROR': None}, {'ERROR': None}, {'ERROR': None}, {'ERROR': None}, {'ERROR': None}, {'ERROR': None}, {'ERROR': None}, {'ERROR': None}, {'ERROR': None}, {'ERROR': None}, {'ERROR': None}, {'ERROR': None}, {'ERROR': None}, {'ERROR': None}, {'ERROR': None}, {'ERROR': None}, {'ERROR': None}, {'ERROR': None}, {'ERROR': None}, {'ERROR': None}, {'ERROR': None}, {'ERROR': None}, {'ERROR': None}, {'ERROR': None}, {'ERROR': None}, {'ERROR': None}, {'ERROR': None}, {'ERROR': None}, {'ERROR': None}, {'ERROR': None}, {'ERROR': None}, {'ERROR': None}, {'ERROR': None}, {'ERROR': None}, {'ERROR': None}, {'ERROR': None}, {'ERROR': None}, {'ERROR': None}, {'ERROR': None}, {'ERROR': None}, {'ERROR': None}, {'ERROR': None}, {'ERROR': None}, {'ERROR': None}, {'ERROR': None}, {'ERROR': None}, {'ERROR': None}, {'ERROR': None}, {'ERROR': None}, {'ERROR': None}, {'ERROR': None}, {'ERROR': None}, {'ERROR': None}, {'ERROR': None}, {'ERROR': None}, {'ERROR': None}, {'ERROR': None}, {'ERROR': None}, {'ERROR': None}, {'ERROR': None}, {'ERROR': None}, {'ERROR': None}, {'ERROR': None}, {'ERROR': None}, {'ERROR': None}, {'ERROR': None}, {'ERROR': None}, {'ERROR': None}, {'ERROR': None}, {'ERROR': None}, {'ERROR': None}, {'ERROR': None}, {'ERROR': None}, {'ERROR': None}, {'ERROR': None}, {'ERROR': None}, {'ERROR': None}, {'ERROR': None}, {'ERROR': None}, {'ERROR': None}, {'ERROR': None}, {'ERROR': None}, {'ERROR': None}, {'ERROR': None}, {'ERROR': None}, {'ERROR': None}, {'ERROR': None}, {'ERROR': None}, {'ERROR': None}, {'ERROR': None}, {'ERROR': None}, {'ERROR': None}, {'ERROR': None}, {'ERROR': None}, {'ERROR': None}, {'ERROR': None}, {'ERROR': None}, {'ERROR': None}, {'ERROR': None}, {'ERROR': None}, {'ERROR': None}, {'ERROR': None}, {'ERROR': None}, {'ERROR': None}, {'ERROR': None}, {'ERROR': None}, {'ERROR': None}, {'ERROR': None}, {'ERROR': None}, {'ERROR': None}, {'ERROR': None}, {'ERROR': None}, {'ERROR': None}, {'ERROR': None}, {'ERROR': None}, {'ERROR': None}, {'ERROR': None}, {'ERROR': None}, {'ERROR': None}, {'ERROR': None}, {'ERROR': None}, {'ERROR': None}, {'ERROR': None}, {'ERROR': None}, {'ERROR': None}, {'ERROR': None}, {'ERROR': None}, {'ERROR': None}, {'ERROR': None}, {'ERROR': None}, {'ERROR': None}, {'ERROR': None}, {'ERROR': None}, {'ERROR': None}, {'ERROR': None}, {'ERROR': None}, {'ERROR': None}, {'ERROR': None}, {'ERROR': None}, {'ERROR': None}, {'ERROR': None}, {'ERROR': None}, {'ERROR': None}, {'ERROR': None}, {'ERROR': None}, {'ERROR': None}, {'ERROR': None}, {'ERROR': None}, {'ERROR': None}, {'ERROR': None}, {'ERROR': None}, {'ERROR': None}, {'ERROR': None}, {'ERROR': None}, {'ERROR': None}, {'ERROR': None}, {'ERROR': None}, {'ERROR': None}, {'ERROR': None}, {'ERROR': None}, {'ERROR': None}, {'ERROR': None}, {'ERROR': None}, {'ERROR': None}, {'ERROR': None}, {'ERROR': None}, {'ERROR': None}, {'ERROR': None}, {'ERROR': None}, {'ERROR': None}, {'ERROR': None}, {'ERROR': None}, {'ERROR': None}, {'ERROR': None}, {'ERROR': None}, {'ERROR': None}, {'ERROR': None}, {'ERROR': None}, {'ERROR': None}, {'ERROR': None}, {'ERROR': None}, {'ERROR': None}, {'ERROR': None}, {'ERROR': None}, {'ERROR': None}, {'ERROR': None}, {'ERROR': None}, {'ERROR': None}, {'ERROR': None}, {'ERROR': None}, {'ERROR': None}, {'ERROR': None}, {'ERROR': None}, {'ERROR': None}, {'ERROR': None}, {'ERROR': None}, {'ERROR': None}, {'ERROR': None}, {'ERROR': None}, {'ERROR': None}, {'ERROR': None}, {'ERROR': None}, {'ERROR': None}, {'ERROR': None}, {'ERROR': None}, {'ERROR': None}, {'ERROR': None}, {'ERROR': None}, {'ERROR': None}, {'ERROR': None}, {'ERROR': None}, {'ERROR': None}, {'ERROR': None}, {'ERROR': None}, {'ERROR': None}, {'ERROR': None}, {'ERROR': None}, {'ERROR': None}, {'ERROR': None}, {'ERROR': None}, {'ERROR': None}, {'ERROR': None}, {'ERROR': None}, {'ERROR': None}, {'ERROR': None}, {'ERROR': None}, {'ERROR': None}, {'ERROR': None}, {'ERROR': None}, {'ERROR': None}, {'ERROR': None}, {'ERROR': None}, {'ERROR': None}, {'ERROR': None}, {'ERROR': None}, {'ERROR': None}, {'ERROR': None}]\n"
     ]
    }
   ],
   "source": [
    "print(data_final)"
   ]
  },
  {
   "cell_type": "code",
   "execution_count": null,
   "metadata": {},
   "outputs": [],
   "source": [
    "jsonfile = json.dumps(data)"
   ]
  },
  {
   "cell_type": "code",
   "execution_count": null,
   "metadata": {},
   "outputs": [],
   "source": [
    "jsonfile = pd.DataFrame(data)\n",
    "jsonfile.to_json('output/jsonfile.json',orient=\"records\")"
   ]
  }
 ],
 "metadata": {
  "kernelspec": {
   "display_name": "Python 3",
   "language": "python",
   "name": "python3"
  },
  "language_info": {
   "codemirror_mode": {
    "name": "ipython",
    "version": 3
   },
   "file_extension": ".py",
   "mimetype": "text/x-python",
   "name": "python",
   "nbconvert_exporter": "python",
   "pygments_lexer": "ipython3",
   "version": "3.8.2"
  }
 },
 "nbformat": 4,
 "nbformat_minor": 4
}
